{
  "nbformat": 4,
  "nbformat_minor": 0,
  "metadata": {
    "colab": {
      "provenance": []
    },
    "kernelspec": {
      "name": "python3",
      "display_name": "Python 3"
    },
    "language_info": {
      "name": "python"
    }
  },
  "cells": [
    {
      "cell_type": "markdown",
      "source": [
        "#Assignment:Files, exceptional handling, logging and memory management\n",
        "\n",
        "**Theoritical Questions**\n",
        "\n",
        "**Question No. 01. What is the difference between interpreted and compiled languages?**\n",
        "\n",
        "**Answer.** **Compiled Languages**:- A compiled language is converted entirely into machine code by a compiler before execution.\n",
        "\n",
        "**Examples**: C, C++, Rust, Go, Haskell\n",
        "\n",
        "**Interpreted Languages**:-An interpreted language is executed line-by-line by an interpreter at runtime, without prior compilation into machine code.\n",
        "\n",
        "**Examples**: Python, Ruby, JavaScript, PHP .\n",
        "\n",
        "**Question No. 02. What is exception handling in Python?**\n",
        "\n",
        "**Answer.** In Python, exception handling is a mechanism that allows you to manage runtime errors—referred to as exceptions—without terminating the program abruptly. This ensures that your code can handle unexpected situations gracefully, leading to more robust and user-friendly applications.\n",
        "\n",
        "**Question No. 03. What is the purpose of the finally block in exception handling?**\n",
        "\n",
        "**Answer.** In Python, the finally block is an integral part of exception handling. It ensures that certain code is executed no matter what—whether an exception was raised or not, and whether it was handled or not. This makes it ideal for cleanup operations like closing files, releasing resources, or resetting states.\n",
        "\n",
        "**Question No. 04. What is logging in Python?**\n",
        "\n",
        "**Answer.** In Python, logging is a powerful and flexible system for tracking events during program execution. Unlike using print() statements, which are typically removed in production code, the logging module provides a standardized way to record messages that can help with debugging, monitoring, and auditing.\n",
        "\n",
        "Logging involves recording messages that describe the flow of a program, errors, or other significant events. These messages can be written to various outputs, such as the console, files, or remote servers, and can include different levels of severity.\n",
        "\n",
        "**Question No. 05. What is the significance of the __del__ method in Python?**\n",
        "\n",
        "**Answer.**In Python, the __del__ method is a special method known as the destructor. It is called when an object is about to be destroyed, allowing for cleanup actions such as releasing external resources (e.g., closing files or network connections). However, its usage comes with important considerations.\n",
        "\n",
        "The __del__ method enables an object to define specific cleanup actions before it is destroyed. This is particularly useful for releasing resources that are not managed by Python's garbage collector, such as file handles or database connections. By implementing __del__, you can ensure that these resources are properly released when the object is no longer needed.\n",
        "\n",
        "**Question No. 06. What is the difference between import and from ... import in Python?**\n",
        "\n",
        "**Answer.**In Python, the import and from ... import statements are used to include external modules or specific components from modules into your code. Each approach has its own use cases and implications.\n",
        "\n",
        "**Import Module:-**This statement imports the entire module, allowing access to all its functions, classes, and variables. You must prefix the module name when accessing its components\n",
        "\n"
      ],
      "metadata": {
        "id": "dnTjsvPM3fSV"
      }
    },
    {
      "cell_type": "code",
      "source": [
        "import math\n",
        "print(math.sqrt(16))\n"
      ],
      "metadata": {
        "colab": {
          "base_uri": "https://localhost:8080/"
        },
        "id": "U6oP6IMB9VUl",
        "outputId": "8a3dea61-cf22-43b9-890b-b9bc24090ffc"
      },
      "execution_count": null,
      "outputs": [
        {
          "output_type": "stream",
          "name": "stdout",
          "text": [
            "4.0\n"
          ]
        }
      ]
    },
    {
      "cell_type": "markdown",
      "source": [
        "**from Module Import:-**This statement imports specific components from a module directly into the current namespace, allowing you to use them without the module prefix."
      ],
      "metadata": {
        "id": "IIUXOCd19XWo"
      }
    },
    {
      "cell_type": "code",
      "source": [
        "from math import sqrt\n",
        "print(sqrt(16))\n",
        "\n"
      ],
      "metadata": {
        "colab": {
          "base_uri": "https://localhost:8080/"
        },
        "id": "mgWeS2xx-P8K",
        "outputId": "1884c85d-8d26-4929-df52-367fc81f212d"
      },
      "execution_count": null,
      "outputs": [
        {
          "output_type": "stream",
          "name": "stdout",
          "text": [
            "4.0\n"
          ]
        }
      ]
    },
    {
      "cell_type": "markdown",
      "source": [
        "**Question No. 07. How can you handle multiple exceptions in Python?**\n",
        "\n",
        "**Answer.**In Python, handling multiple exceptions allows you to manage different error scenarios efficiently within a single try block. This approach enhances code readability and reduces redundancy.\n",
        "\n",
        "**Catching Multiple Exceptions in One except Block**\n",
        "We can specify multiple exceptions in a single except clause by grouping them in a tuple. This is particularly useful when the handling logic for these exceptions is the same."
      ],
      "metadata": {
        "id": "AoHf7i0G-QTc"
      }
    },
    {
      "cell_type": "code",
      "source": [
        "try:\n",
        "except (ValueError, ZeroDivisionError) as e:\n",
        "    print(f\"An error occurred: {e}\")\n"
      ],
      "metadata": {
        "colab": {
          "base_uri": "https://localhost:8080/",
          "height": 106
        },
        "id": "ixvStXqD_DJ4",
        "outputId": "0190af99-3d04-4112-a1ac-07e394915573"
      },
      "execution_count": null,
      "outputs": [
        {
          "output_type": "error",
          "ename": "IndentationError",
          "evalue": "expected an indented block after 'try' statement on line 1 (<ipython-input-6-f78663bc7a10>, line 2)",
          "traceback": [
            "\u001b[0;36m  File \u001b[0;32m\"<ipython-input-6-f78663bc7a10>\"\u001b[0;36m, line \u001b[0;32m2\u001b[0m\n\u001b[0;31m    except (ValueError, ZeroDivisionError) as e:\u001b[0m\n\u001b[0m    ^\u001b[0m\n\u001b[0;31mIndentationError\u001b[0m\u001b[0;31m:\u001b[0m expected an indented block after 'try' statement on line 1\n"
          ]
        }
      ]
    },
    {
      "cell_type": "markdown",
      "source": [
        "**Handling Different Exceptions Separately:-**\n",
        "If different exceptions require distinct handling logic, it's advisable to use separate except blocks. This approach allows for more granular control over error handling."
      ],
      "metadata": {
        "id": "9XYhpKL__I6t"
      }
    },
    {
      "cell_type": "code",
      "source": [
        "try:\n",
        "except ValueError as e:\n",
        "    print(f\"Value error: {e}\")\n",
        "except ZeroDivisionError as e:\n",
        "    print(f\"Division by zero: {e}\")\n"
      ],
      "metadata": {
        "colab": {
          "base_uri": "https://localhost:8080/",
          "height": 106
        },
        "id": "ZYiv0890_Ljb",
        "outputId": "a9359fc0-505e-4a8f-acdf-b1046288df79"
      },
      "execution_count": null,
      "outputs": [
        {
          "output_type": "error",
          "ename": "IndentationError",
          "evalue": "expected an indented block after 'try' statement on line 1 (<ipython-input-4-8da0acd116e0>, line 3)",
          "traceback": [
            "\u001b[0;36m  File \u001b[0;32m\"<ipython-input-4-8da0acd116e0>\"\u001b[0;36m, line \u001b[0;32m3\u001b[0m\n\u001b[0;31m    except ValueError as e:\u001b[0m\n\u001b[0m    ^\u001b[0m\n\u001b[0;31mIndentationError\u001b[0m\u001b[0;31m:\u001b[0m expected an indented block after 'try' statement on line 1\n"
          ]
        }
      ]
    },
    {
      "cell_type": "markdown",
      "source": [
        "**Using the suppress Context Manager:-**\n",
        "For scenarios where you want to ignore specific exceptions without handling them, you can use the suppress context manager from the contextlib module. This is useful when you want to prevent certain exceptions from propagating."
      ],
      "metadata": {
        "id": "vnn9rdVp_UdZ"
      }
    },
    {
      "cell_type": "code",
      "source": [
        "from contextlib import suppress\n",
        "\n",
        "with suppress(ValueError, ZeroDivisionError):\n",
        "    pass"
      ],
      "metadata": {
        "id": "-JzVMVoz_Xdz"
      },
      "execution_count": null,
      "outputs": []
    },
    {
      "cell_type": "markdown",
      "source": [
        "**Question No. 08. What is the purpose of the with statement when handling files in Python?**\n",
        "\n",
        "**Answer.**The with statement in Python is used to manage resources like files more efficiently and safely. When handling files, its main purpose is to automatically handle opening and closing the file, even if an error occurs during file operations.\n",
        "\n",
        "Example:\n",
        "\n",
        "with open('example.txt', 'r') as file:\n",
        "    content = file.read()\n",
        "\n",
        "**Question No. 09. What is the difference between multithreading and multiprocessing?**\n",
        "\n",
        "**Answer.** **Multithreading:-**Multithreading involves running multiple threads within a single process. Threads share the same memory space, allowing for efficient communication and resource sharing.\n",
        "\n",
        "1- Threads execute tasks in an interleaved manner, giving the illusion of parallelism.\n",
        "\n",
        "2-All threads within a process share the same memory space, facilitating easy communication but requiring synchronization mechanisms to prevent data conflicts.\n",
        "\n",
        "3-In languages like Python, the GIL allows only one thread to execute Python bytecode at a time, limiting true parallelism.\n",
        "\n",
        "4-Multithreading is well-suited for tasks that spend time waiting for external resources, such as file I/O or network operations.\n",
        "\n",
        "**Multiprocessing:-**it involves running multiple processes, each with its own memory space and resources. This approach allows for true parallelism, especially on multi-core systems.\n",
        "\n",
        "1-Processes run independently on separate CPU cores, enabling true parallel execution.\n",
        "\n",
        "2-Each process has its own memory, preventing data conflicts but requiring inter-process communication (IPC) for data sharing.\n",
        "\n",
        "3-By using separate processes, multiprocessing bypasses the GIL, allowing full utilization of multi-core systems.\n",
        "\n",
        "4-Multiprocessing is effective for tasks that require significant computational power, such as data processing or complex calculations.\n",
        "\n",
        "**Question No. 10. What are the advantages of using logging in a program?**\n",
        "\n",
        "**Answer.**  Logging provides several benefits:\n",
        "\n",
        "**Debugging:** Helps trace issues by recording events and errors.\n",
        "\n",
        "**Monitoring:** Allows real-time tracking of application behavior.\n",
        "\n",
        "**Audit Trails:** Maintains records for compliance and security.\n",
        "\n",
        "**Performance Analysis:** Assists in identifying bottlenecks.\n",
        "\n",
        "**Error Reporting:** Facilitates easier identification and resolution of issues.\n",
        "\n",
        "Using Python's built-in logging module enables configurable and scalable logging practices.\n",
        "\n",
        "**Question No. 11. What is memory management in Python?**\n",
        "\n",
        "**Answer.** Memory management in Python involves the allocation and deallocation of memory to objects. Python uses:\n",
        "**Reference Counting:** Each object maintains a count of references pointing to it. When the count drops to zero, the object is deallocated.\n",
        "\n",
        "**Garbage Collection:** Automatically frees memory by removing objects that are no longer in use.\n",
        "This automatic management helps prevent memory leaks and optimizes resource usage.\n",
        "\n",
        "**Question No. 12. What are the basic steps involved in exception handling in Python?**\n",
        "\n",
        "**Answer.**Python's exception handling follows this structure:\n",
        "\n",
        "**try Block:** Code that might raise an exception.\n",
        "\n",
        "**except Block:** Handles the exception if one occurs.\n",
        "\n",
        "**else Block:** Executed if no exception occurs.\n",
        "\n",
        "**finally Block:** Always executed, regardless of exceptions, for cleanup.\n",
        "Stack Overflow\n",
        "\n",
        "This structure ensures graceful error handling and resource management.\n",
        "\n",
        "**Question No. 13. Why is Memory management important in Python???**\n",
        "\n",
        "**Answer.** Effective memory management is crucial because:\n",
        "\n",
        "**Prevents Memory Leaks:** Ensures that unused memory is reclaimed.\n",
        "\n",
        "**Optimizes Performance:** Reduces overhead and improves application speed.\n",
        "\n",
        "**Enhances Stability:** Prevents crashes due to memory exhaustion.\n",
        "\n",
        "Python's built-in garbage collection aids in automatic memory management.\n",
        "\n",
        "**Question No. 14. What is the role of try and except in exception handling?**\n",
        "\n",
        "**Answer.**The try block contains code that might raise an exception. If an exception occurs, the except block catches and handles it, preventing the program from crashing.\n",
        "\n",
        "This mechanism allows for controlled error handling and resource management.\n",
        "\n",
        "**Question No. 15. How does Python's garbage collection system work?**\n",
        "\n",
        "**Answer.** Python employs a garbage collector to manage memory:\n",
        "\n",
        "**Reference Counting:** Tracks the number of references to an object. When it reaches zero, the object is deallocated.\n",
        "\n",
        "**Generational Garbage Collection:** Organizes objects into generations. Older generations are collected less frequently, optimizing performance.\n",
        "\n",
        "This system ensures efficient memory usage and automatic cleanup.\n",
        "\n",
        "**Question No. 16. What is the purpose of the else block in exception handling?**\n",
        "\n",
        "**Answer.** The else block is executed if the code in the try block does not raise an exception. It's useful for code that should run only when no errors occur, such as committing a transaction.\n",
        "\n",
        "**Question No. 17. What are the common logging levels in Python?**\n",
        "\n",
        "**Answer.**Python's logging module defines several levels:\n",
        "\n",
        "**DEBUG:** Detailed information, typically useful only for diagnosing problems.\n",
        "\n",
        "**INFO:** Confirmations that things are working as expected.\n",
        "\n",
        "**WARNING:** Indications that something unexpected happened, or that there may be a problem in the near future.\n",
        "\n",
        "**ERROR:** Due to a more serious problem, the software has not been able to perform some function.\n",
        "\n",
        "**CRITICAL:** A very serious error that may prevent the program from continuing to run.\n",
        "\n",
        "These levels help in categorizing and filtering log messages.\n",
        "\n",
        "**Question. No. 18. What is the difference between os.fork() and multiprocessing in Python?**\n",
        "\n",
        "**Answer.** The basic differece between os.fork() and multiprocessing is as follows...\n",
        "\n",
        "**os.fork():** Creates a new process by duplicating the current process. It's platform-dependent and primarily available on Unix-like systems.\n",
        "\n",
        "**multiprocessing Module:** Provides a higher-level interface for creating and managing processes, offering better portability and additional features like process pools.\n",
        "\n",
        "For cross-platform applications, multiprocessing is recommended.\n",
        "\n",
        "**Question No. 19. What is the importance of closing a file in Python?**\n",
        "\n",
        "**Answer.** Closing a file in Python is crucial to release system resources like file handles and memory. If a file is not closed, it can lead to resource leaks, causing performance issues or crashes. Additionally, failing to close a file can result in data corruption, as buffered data may not be written to disk properly. Using a context manager (with statement) ensures that files are automatically closed after their suite finishes, even if an exception is raised. This practice promotes clean and efficient file handling in Python programs.\n",
        "\n",
        "**Question No. 20. What is the difference between file.read() and file.readline() in Python?**\n",
        "\n",
        "**Answer.**The file.read() method reads the entire content of a file as a single string, which is useful for small files or when you need to process all data at once. In contrast, file.readline() reads the next line from the file, returning it as a string. This method is particularly useful for processing large files line by line, conserving memory by not loading the entire file into memory at once.\n",
        "\n",
        "**Question No. 21. What is the logging module in Python used for?**\n",
        "\n",
        "**Answer..**The logging module in Python provides a flexible framework for emitting log messages from Python programs. It allows developers to track events, errors, and other significant occurrences in their applications. By using different log levels (e.g., DEBUG, INFO, WARNING, ERROR, CRITICAL), developers can categorize messages based on severity. This helps in debugging, monitoring, and maintaining applications effectively. The module supports various output destinations, including console, files, and remote servers.\n",
        "\n",
        "**Question No. 22. What is the os module in Pythonused for in file handling?**\n",
        "\n",
        "**Answer.**The os module in Python provides a portable way of using operating system-dependent functionality, including file and directory operations. It allows for creating, removing, and changing directories, as well as fetching their contents. For file handling, os offers functions like os.remove() to delete files, os.rename() to rename them, and os.path submodule to handle file paths and check file existence. These functionalities enable developers to perform low-level file operations across different operating systems.\n",
        "\n",
        "**Question No. 23. What are the chanllenges associated with memory management in Python?**\n",
        "\n",
        "**Answer.**Memory management in Python is primarily handled by automatic garbage collection, which simplifies development but introduces challenges. Developers must be cautious of memory leaks, where memory is not properly released, leading to increased memory usage over time. Circular references can also complicate garbage collection, as objects referencing each other may not be collected promptly. Additionally, Python's reference counting mechanism requires careful management to avoid premature deallocation of objects still in use.\n",
        "\n",
        "**Question No. 24. How do you raise an exception in manually in Python?**\n",
        "\n",
        "**Answer.** In Python, exceptions can be raised manually using the raise statement. This is useful for enforcing constraints or signaling errors in your code. To raise a built-in exception, you can use raise ValueError(\"Invalid input\"). Custom exceptions can be defined by creating a new class that inherits from Python's built-in Exception class. For example:\n"
      ],
      "metadata": {
        "id": "_yKrPXJ80cOj"
      }
    },
    {
      "cell_type": "code",
      "source": [
        "class CustomError(Exception):\n",
        "    pass\n",
        "\n",
        "raise CustomError(\"Something went wrong\")\n"
      ],
      "metadata": {
        "colab": {
          "base_uri": "https://localhost:8080/",
          "height": 176
        },
        "id": "MquMdUTunW69",
        "outputId": "b35c497c-b244-4816-dd02-c4addc522411"
      },
      "execution_count": null,
      "outputs": [
        {
          "output_type": "error",
          "ename": "CustomError",
          "evalue": "Something went wrong",
          "traceback": [
            "\u001b[0;31m---------------------------------------------------------------------------\u001b[0m",
            "\u001b[0;31mCustomError\u001b[0m                               Traceback (most recent call last)",
            "\u001b[0;32m<ipython-input-1-256a34c2de7f>\u001b[0m in \u001b[0;36m<cell line: 0>\u001b[0;34m()\u001b[0m\n\u001b[1;32m      2\u001b[0m     \u001b[0;32mpass\u001b[0m\u001b[0;34m\u001b[0m\u001b[0;34m\u001b[0m\u001b[0m\n\u001b[1;32m      3\u001b[0m \u001b[0;34m\u001b[0m\u001b[0m\n\u001b[0;32m----> 4\u001b[0;31m \u001b[0;32mraise\u001b[0m \u001b[0mCustomError\u001b[0m\u001b[0;34m(\u001b[0m\u001b[0;34m\"Something went wrong\"\u001b[0m\u001b[0;34m)\u001b[0m\u001b[0;34m\u001b[0m\u001b[0;34m\u001b[0m\u001b[0m\n\u001b[0m",
            "\u001b[0;31mCustomError\u001b[0m: Something went wrong"
          ]
        }
      ]
    },
    {
      "cell_type": "markdown",
      "source": [
        "**Question No. 25. Why is it important to use multithreading in certain applications?**\n",
        "\n",
        "**Answer..** Multithreading is essential in applications that require concurrent operations, such as web servers or GUI applications. It allows for performing multiple tasks simultaneously, improving responsiveness and efficiency. For instance, in a web server, one thread can handle incoming requests while another processes data, ensuring that the server remains responsive. However, it's important to note that Python's Global Interpreter Lock (GIL) can limit the effectiveness of multithreading in CPU-bound tasks.\n",
        "\n",
        "#Practical Question\n",
        "\n",
        "**Question No 01. How can you open a file for writing in Python and write a string to it?**"
      ],
      "metadata": {
        "id": "9IFRyxnSnXl-"
      }
    },
    {
      "cell_type": "code",
      "source": [
        "with open('example.txt', 'w') as f:\n",
        "    f.write(\"Hello, world!\")"
      ],
      "metadata": {
        "id": "7GCMTDbzBZv6"
      },
      "execution_count": null,
      "outputs": []
    },
    {
      "cell_type": "markdown",
      "source": [
        "**Questio No. 02. Write a Python program to read the contests of a file and print each line.**"
      ],
      "metadata": {
        "id": "HTdESopMBbdI"
      }
    },
    {
      "cell_type": "code",
      "source": [
        "with open('example.txt', 'r') as f:\n",
        "    for line in f:\n",
        "        print(line.strip())"
      ],
      "metadata": {
        "colab": {
          "base_uri": "https://localhost:8080/"
        },
        "id": "Ng1AllBiCP3J",
        "outputId": "d26cd89c-e1f0-4713-9716-c2b369d99578"
      },
      "execution_count": null,
      "outputs": [
        {
          "output_type": "stream",
          "name": "stdout",
          "text": [
            "Hello, world!\n"
          ]
        }
      ]
    },
    {
      "cell_type": "markdown",
      "source": [
        "**Question No. 03. How would you handle a case where the file doesn't exist while trying to open it for reading.?**"
      ],
      "metadata": {
        "id": "1QA4y14qCUIj"
      }
    },
    {
      "cell_type": "code",
      "source": [
        "try:\n",
        "    with open('nonexistent.txt', 'r') as f:\n",
        "        content = f.read()\n",
        "except FileNotFoundError:\n",
        "    print(\"File does not exist.\")\n"
      ],
      "metadata": {
        "colab": {
          "base_uri": "https://localhost:8080/"
        },
        "id": "h6KN8KceCy8G",
        "outputId": "44bec137-20a4-4f56-a7f5-a606df65728b"
      },
      "execution_count": null,
      "outputs": [
        {
          "output_type": "stream",
          "name": "stdout",
          "text": [
            "File does not exist.\n"
          ]
        }
      ]
    },
    {
      "cell_type": "markdown",
      "source": [
        "**Question No. 04. Write a Python script that reads from one file and writes its content to another file.**"
      ],
      "metadata": {
        "id": "gRvLwwKvC2MI"
      }
    },
    {
      "cell_type": "code",
      "source": [
        "with open('source.txt', 'r') as src, open('destination.txt', 'w') as dest:\n",
        "    dest.write(src.read())\n"
      ],
      "metadata": {
        "colab": {
          "base_uri": "https://localhost:8080/",
          "height": 159
        },
        "id": "SIDvpyZTDGdo",
        "outputId": "05c5100c-fb6e-4fe8-8498-9ef0acdcbab0"
      },
      "execution_count": null,
      "outputs": [
        {
          "output_type": "error",
          "ename": "FileNotFoundError",
          "evalue": "[Errno 2] No such file or directory: 'source.txt'",
          "traceback": [
            "\u001b[0;31m---------------------------------------------------------------------------\u001b[0m",
            "\u001b[0;31mFileNotFoundError\u001b[0m                         Traceback (most recent call last)",
            "\u001b[0;32m<ipython-input-5-13d5fecd7bca>\u001b[0m in \u001b[0;36m<cell line: 0>\u001b[0;34m()\u001b[0m\n\u001b[0;32m----> 1\u001b[0;31m \u001b[0;32mwith\u001b[0m \u001b[0mopen\u001b[0m\u001b[0;34m(\u001b[0m\u001b[0;34m'source.txt'\u001b[0m\u001b[0;34m,\u001b[0m \u001b[0;34m'r'\u001b[0m\u001b[0;34m)\u001b[0m \u001b[0;32mas\u001b[0m \u001b[0msrc\u001b[0m\u001b[0;34m,\u001b[0m \u001b[0mopen\u001b[0m\u001b[0;34m(\u001b[0m\u001b[0;34m'destination.txt'\u001b[0m\u001b[0;34m,\u001b[0m \u001b[0;34m'w'\u001b[0m\u001b[0;34m)\u001b[0m \u001b[0;32mas\u001b[0m \u001b[0mdest\u001b[0m\u001b[0;34m:\u001b[0m\u001b[0;34m\u001b[0m\u001b[0;34m\u001b[0m\u001b[0m\n\u001b[0m\u001b[1;32m      2\u001b[0m     \u001b[0mdest\u001b[0m\u001b[0;34m.\u001b[0m\u001b[0mwrite\u001b[0m\u001b[0;34m(\u001b[0m\u001b[0msrc\u001b[0m\u001b[0;34m.\u001b[0m\u001b[0mread\u001b[0m\u001b[0;34m(\u001b[0m\u001b[0;34m)\u001b[0m\u001b[0;34m)\u001b[0m\u001b[0;34m\u001b[0m\u001b[0;34m\u001b[0m\u001b[0m\n",
            "\u001b[0;31mFileNotFoundError\u001b[0m: [Errno 2] No such file or directory: 'source.txt'"
          ]
        }
      ]
    },
    {
      "cell_type": "markdown",
      "source": [
        "**Question No. 05. How would you catch and handle division by Zero error in Python?**"
      ],
      "metadata": {
        "id": "KNo1EUqIDUe_"
      }
    },
    {
      "cell_type": "code",
      "source": [
        "try:\n",
        "    result = 10 / 0\n",
        "except ZeroDivisionError:\n",
        "    print(\"Cannot divide by zero.\")\n"
      ],
      "metadata": {
        "colab": {
          "base_uri": "https://localhost:8080/"
        },
        "id": "wYs-uAkeDvf1",
        "outputId": "c2560f8d-0cee-4cf3-a833-442db3ac83d3"
      },
      "execution_count": null,
      "outputs": [
        {
          "output_type": "stream",
          "name": "stdout",
          "text": [
            "Cannot divide by zero.\n"
          ]
        }
      ]
    },
    {
      "cell_type": "markdown",
      "source": [
        "**Question. No. 06. Write a Python program that logs an error message to a log file when a division by zero exception occurs.**"
      ],
      "metadata": {
        "id": "7Iw1lQ5BD1yx"
      }
    },
    {
      "cell_type": "code",
      "source": [
        "import logging\n",
        "\n",
        "logging.basicConfig(filename='app.log', level=logging.ERROR)\n",
        "\n",
        "try:\n",
        "    result = 10 / 0\n",
        "except ZeroDivisionError:\n",
        "    logging.error(\"Attempted to divide by zero.\")\n"
      ],
      "metadata": {
        "colab": {
          "base_uri": "https://localhost:8080/"
        },
        "id": "ZyuZnrUsEJTe",
        "outputId": "74e0666d-7dec-42fd-8a50-188500369053"
      },
      "execution_count": null,
      "outputs": [
        {
          "output_type": "stream",
          "name": "stderr",
          "text": [
            "ERROR:root:Attempted to divide by zero.\n"
          ]
        }
      ]
    },
    {
      "cell_type": "markdown",
      "source": [
        "**Question No. 07. How do you log information at different levels (INFO, ERROR, WARNING) in Python using the logging module?**"
      ],
      "metadata": {
        "id": "ew6De2liEWCN"
      }
    },
    {
      "cell_type": "code",
      "source": [
        "import logging\n",
        "\n",
        "logging.basicConfig(filename='app.log', level=logging.DEBUG)\n",
        "\n",
        "logging.debug(\"This is a debug message.\")\n",
        "logging.info(\"This is an info message.\")\n",
        "logging.warning(\"This is a warning message.\")\n",
        "logging.error(\"This is an error message.\")\n",
        "logging.critical(\"This is a critical message.\")\n"
      ],
      "metadata": {
        "colab": {
          "base_uri": "https://localhost:8080/"
        },
        "id": "fPzAkmDPEmg9",
        "outputId": "b4f00f4f-5c50-45c8-82fa-5b2594c2d015"
      },
      "execution_count": null,
      "outputs": [
        {
          "output_type": "stream",
          "name": "stderr",
          "text": [
            "WARNING:root:This is a warning message.\n",
            "ERROR:root:This is an error message.\n",
            "CRITICAL:root:This is a critical message.\n"
          ]
        }
      ]
    },
    {
      "cell_type": "markdown",
      "source": [
        "**Question No. 08. Write a program to handle a file opening error using exception handling.**"
      ],
      "metadata": {
        "id": "7gvZgtQ_EyIL"
      }
    },
    {
      "cell_type": "code",
      "source": [
        "try:\n",
        "    with open('file.txt', 'r') as f:\n",
        "        content = f.read()\n",
        "except IOError:\n",
        "    print(\"An error occurred while opening the file.\")\n"
      ],
      "metadata": {
        "id": "c3LBdDS9FEa0"
      },
      "execution_count": null,
      "outputs": []
    },
    {
      "cell_type": "markdown",
      "source": [
        "**Question No. 09. How can you read a file line by line and store its content in a list in Python?cc"
      ],
      "metadata": {
        "id": "tNmh_imwFNxG"
      }
    },
    {
      "cell_type": "code",
      "source": [
        "with open('file.txt', 'r') as f:\n",
        "    lines = f.readlines()\n",
        "lines = [line.strip() for line in lines]"
      ],
      "metadata": {
        "colab": {
          "base_uri": "https://localhost:8080/",
          "height": 176
        },
        "id": "iWVIcDHCISG-",
        "outputId": "ad22b12b-4cc3-49d4-b517-9969be8f145e"
      },
      "execution_count": null,
      "outputs": [
        {
          "output_type": "error",
          "ename": "FileNotFoundError",
          "evalue": "[Errno 2] No such file or directory: 'file.txt'",
          "traceback": [
            "\u001b[0;31m---------------------------------------------------------------------------\u001b[0m",
            "\u001b[0;31mFileNotFoundError\u001b[0m                         Traceback (most recent call last)",
            "\u001b[0;32m<ipython-input-10-0e5163a807e2>\u001b[0m in \u001b[0;36m<cell line: 0>\u001b[0;34m()\u001b[0m\n\u001b[0;32m----> 1\u001b[0;31m \u001b[0;32mwith\u001b[0m \u001b[0mopen\u001b[0m\u001b[0;34m(\u001b[0m\u001b[0;34m'file.txt'\u001b[0m\u001b[0;34m,\u001b[0m \u001b[0;34m'r'\u001b[0m\u001b[0;34m)\u001b[0m \u001b[0;32mas\u001b[0m \u001b[0mf\u001b[0m\u001b[0;34m:\u001b[0m\u001b[0;34m\u001b[0m\u001b[0;34m\u001b[0m\u001b[0m\n\u001b[0m\u001b[1;32m      2\u001b[0m     \u001b[0mlines\u001b[0m \u001b[0;34m=\u001b[0m \u001b[0mf\u001b[0m\u001b[0;34m.\u001b[0m\u001b[0mreadlines\u001b[0m\u001b[0;34m(\u001b[0m\u001b[0;34m)\u001b[0m\u001b[0;34m\u001b[0m\u001b[0;34m\u001b[0m\u001b[0m\n\u001b[1;32m      3\u001b[0m \u001b[0mlines\u001b[0m \u001b[0;34m=\u001b[0m \u001b[0;34m[\u001b[0m\u001b[0mline\u001b[0m\u001b[0;34m.\u001b[0m\u001b[0mstrip\u001b[0m\u001b[0;34m(\u001b[0m\u001b[0;34m)\u001b[0m \u001b[0;32mfor\u001b[0m \u001b[0mline\u001b[0m \u001b[0;32min\u001b[0m \u001b[0mlines\u001b[0m\u001b[0;34m]\u001b[0m\u001b[0;34m\u001b[0m\u001b[0;34m\u001b[0m\u001b[0m\n",
            "\u001b[0;31mFileNotFoundError\u001b[0m: [Errno 2] No such file or directory: 'file.txt'"
          ]
        }
      ]
    },
    {
      "cell_type": "markdown",
      "source": [
        "**Question No. 10. How can you append data to an existing file in Python?**"
      ],
      "metadata": {
        "id": "s6MOwn2-Id1Z"
      }
    },
    {
      "cell_type": "code",
      "source": [
        "with open('file.txt', 'a') as f:\n",
        "    f.write(\"New line of text.\\n\")\n"
      ],
      "metadata": {
        "id": "RbkbvvQgI-kq"
      },
      "execution_count": null,
      "outputs": []
    },
    {
      "cell_type": "markdown",
      "source": [
        "**Question No. 11. Write a Python program that uses a try-except block to handle an error when attempting to access a dictionary key that doesn't exist.**"
      ],
      "metadata": {
        "id": "Pl2ezqsCJDEG"
      }
    },
    {
      "cell_type": "code",
      "source": [
        "my_dict = {'key1': 'value1'}\n",
        "\n",
        "try:\n",
        "    value = my_dict['key2']\n",
        "except KeyError:\n",
        "    print(\"Key does not exist.\")"
      ],
      "metadata": {
        "colab": {
          "base_uri": "https://localhost:8080/"
        },
        "id": "5RIPAZh1JTAI",
        "outputId": "3eda8cb8-a0c8-4b27-bbcb-14d749835100"
      },
      "execution_count": null,
      "outputs": [
        {
          "output_type": "stream",
          "name": "stdout",
          "text": [
            "Key does not exist.\n"
          ]
        }
      ]
    },
    {
      "cell_type": "markdown",
      "source": [
        "**Question No. 12. Write a program that demostrates using multiple except blocks to handle different types of exceptions.**"
      ],
      "metadata": {
        "id": "rSrMi0foJe4Y"
      }
    },
    {
      "cell_type": "code",
      "source": [
        "try:\n",
        "    # some code that may raise exceptions\n",
        "    pass\n",
        "except (TypeError, ValueError):\n",
        "    print(\"Caught a TypeError or ValueError.\")\n",
        "except KeyError:\n",
        "    print(\"Caught a KeyError.\")\n",
        "except Exception as e:\n",
        "    print(f\"Caught an unexpected exception: {e}\")"
      ],
      "metadata": {
        "id": "N7CWgetkJySg"
      },
      "execution_count": null,
      "outputs": []
    },
    {
      "cell_type": "markdown",
      "source": [
        "**Question No. 13. How would you check if a file exists before attempting to read it in Python?**"
      ],
      "metadata": {
        "id": "LP53klzaJ9K9"
      }
    },
    {
      "cell_type": "code",
      "source": [
        "import os\n",
        "\n",
        "if os.path.exists('file.txt'):\n",
        "    with open('file.txt', 'r') as f:\n",
        "        content = f.read()\n",
        "else:\n",
        "    print(\"File does not exist.\")\n"
      ],
      "metadata": {
        "id": "IoIodkXUKvL2",
        "colab": {
          "base_uri": "https://localhost:8080/"
        },
        "outputId": "a53cfbba-c902-42a1-9e55-fe52a26798d8"
      },
      "execution_count": null,
      "outputs": [
        {
          "output_type": "stream",
          "name": "stdout",
          "text": [
            "File does not exist.\n"
          ]
        }
      ]
    },
    {
      "cell_type": "markdown",
      "source": [
        "**Question No. 14. Writes a program that uses the logging module to log both informational and error message.**"
      ],
      "metadata": {
        "id": "1guSYNUsKxSS"
      }
    },
    {
      "cell_type": "code",
      "source": [
        "import logging\n",
        "\n",
        "logging.basicConfig(filename='app.log', level=logging.DEBUG)\n",
        "\n",
        "logging.info(\"This is an informational message.\")\n",
        "logging.error(\"This is an error message.\")"
      ],
      "metadata": {
        "id": "ADew1WUGLEcY"
      },
      "execution_count": null,
      "outputs": []
    },
    {
      "cell_type": "markdown",
      "source": [
        "**Question No. 15. Write a Python program that prints the content of a file and handles the case when file is empty.**"
      ],
      "metadata": {
        "id": "BfS4F3rzLHqP"
      }
    },
    {
      "cell_type": "code",
      "source": [
        "try:\n",
        "    with open('file.txt', 'r') as f:\n",
        "        content = f.read()\n",
        "        if content:\n",
        "            print(content)\n",
        "        else:\n",
        "            print(\"File is empty.\")\n",
        "except FileNotFoundError:\n",
        "    print(\"File does not exist.\")"
      ],
      "metadata": {
        "id": "O2UeK_b4LWrs"
      },
      "execution_count": null,
      "outputs": []
    },
    {
      "cell_type": "markdown",
      "source": [
        "**Question No. 16. Demonstrate how to use memory profiling to check the memory usage of a small program.**"
      ],
      "metadata": {
        "id": "oHmsGTGxLaxT"
      }
    },
    {
      "cell_type": "code",
      "source": [
        "from memory_profiler import profile\n",
        "\n",
        "@profile\n",
        "def my_func():\n",
        "    a = [i for i in range(10000)]\n",
        "    b = [i * 2 for i in range(10000)]\n",
        "    return a, b\n",
        "\n",
        "if __name__ == '__main__':\n",
        "    my_func()\n"
      ],
      "metadata": {
        "colab": {
          "base_uri": "https://localhost:8080/",
          "height": 383
        },
        "id": "DNTX3HrVLpdv",
        "outputId": "5196555e-dc7b-405c-d7c7-fea812ec5a05"
      },
      "execution_count": null,
      "outputs": [
        {
          "output_type": "error",
          "ename": "ModuleNotFoundError",
          "evalue": "No module named 'memory_profiler'",
          "traceback": [
            "\u001b[0;31m---------------------------------------------------------------------------\u001b[0m",
            "\u001b[0;31mModuleNotFoundError\u001b[0m                       Traceback (most recent call last)",
            "\u001b[0;32m<ipython-input-12-c1897f3a491a>\u001b[0m in \u001b[0;36m<cell line: 0>\u001b[0;34m()\u001b[0m\n\u001b[0;32m----> 1\u001b[0;31m \u001b[0;32mfrom\u001b[0m \u001b[0mmemory_profiler\u001b[0m \u001b[0;32mimport\u001b[0m \u001b[0mprofile\u001b[0m\u001b[0;34m\u001b[0m\u001b[0;34m\u001b[0m\u001b[0m\n\u001b[0m\u001b[1;32m      2\u001b[0m \u001b[0;34m\u001b[0m\u001b[0m\n\u001b[1;32m      3\u001b[0m \u001b[0;34m@\u001b[0m\u001b[0mprofile\u001b[0m\u001b[0;34m\u001b[0m\u001b[0;34m\u001b[0m\u001b[0m\n\u001b[1;32m      4\u001b[0m \u001b[0;32mdef\u001b[0m \u001b[0mmy_func\u001b[0m\u001b[0;34m(\u001b[0m\u001b[0;34m)\u001b[0m\u001b[0;34m:\u001b[0m\u001b[0;34m\u001b[0m\u001b[0;34m\u001b[0m\u001b[0m\n\u001b[1;32m      5\u001b[0m     \u001b[0ma\u001b[0m \u001b[0;34m=\u001b[0m \u001b[0;34m[\u001b[0m\u001b[0mi\u001b[0m \u001b[0;32mfor\u001b[0m \u001b[0mi\u001b[0m \u001b[0;32min\u001b[0m \u001b[0mrange\u001b[0m\u001b[0;34m(\u001b[0m\u001b[0;36m10000\u001b[0m\u001b[0;34m)\u001b[0m\u001b[0;34m]\u001b[0m\u001b[0;34m\u001b[0m\u001b[0;34m\u001b[0m\u001b[0m\n",
            "\u001b[0;31mModuleNotFoundError\u001b[0m: No module named 'memory_profiler'",
            "",
            "\u001b[0;31m---------------------------------------------------------------------------\u001b[0;32m\nNOTE: If your import is failing due to a missing package, you can\nmanually install dependencies using either !pip or !apt.\n\nTo view examples of installing some common dependencies, click the\n\"Open Examples\" button below.\n\u001b[0;31m---------------------------------------------------------------------------\u001b[0m\n"
          ],
          "errorDetails": {
            "actions": [
              {
                "action": "open_url",
                "actionText": "Open Examples",
                "url": "/notebooks/snippets/importing_libraries.ipynb"
              }
            ]
          }
        }
      ]
    },
    {
      "cell_type": "markdown",
      "source": [
        "**Question No. 17. Write a Python program to create and write a list of number to a file, one number per line.**"
      ],
      "metadata": {
        "id": "YEqxgo-sL0oK"
      }
    },
    {
      "cell_type": "code",
      "source": [
        "numbers = [1, 2, 3, 4, 5]\n",
        "\n",
        "with open('numbers.txt', 'w') as f:\n",
        "    for number in numbers:\n",
        "        f.write(f\"{number}\\n\")\n"
      ],
      "metadata": {
        "id": "ncFLdMlWMEIf"
      },
      "execution_count": null,
      "outputs": []
    },
    {
      "cell_type": "markdown",
      "source": [
        "**Question No. 18. How would you implement a basic logging setup that logs to a file with rotations after 1MB?**"
      ],
      "metadata": {
        "id": "GXddkTIDMNp4"
      }
    },
    {
      "cell_type": "code",
      "source": [
        "import logging\n",
        "from logging.handlers import RotatingFileHandler\n",
        "\n",
        "handler = RotatingFileHandler('app.log', maxBytes=1e6, backupCount=3)\n",
        "logging.basicConfig(handlers=[handler], level=logging.INFO)\n",
        "\n",
        "logging.info(\"This is an info message.\")\n"
      ],
      "metadata": {
        "id": "X3InzD7SMgvX"
      },
      "execution_count": null,
      "outputs": []
    },
    {
      "cell_type": "markdown",
      "source": [
        "**Question No. 19. Write a program that handles both IndexError and KeyError using try-except block.**"
      ],
      "metadata": {
        "id": "IKLNjJTWMiut"
      }
    },
    {
      "cell_type": "code",
      "source": [
        "my_list = [1, 2, 3]\n",
        "my_dict = {'key1': 'value1'}\n",
        "\n",
        "try:\n",
        "    value = my_list[5]\n",
        "except IndexError:\n",
        "    print(\"Index out of range.\")\n",
        "\n",
        "try:\n",
        "    value = my_dict['key2']\n",
        "except KeyError:\n",
        "    print(\"Key does not exist.\")\n"
      ],
      "metadata": {
        "id": "6gfYTCnjM7Th"
      },
      "execution_count": null,
      "outputs": []
    },
    {
      "cell_type": "markdown",
      "source": [
        "**Question No. 20. How would you open a file and read its contents using a context manager in Python?**"
      ],
      "metadata": {
        "id": "nZAKe4ITNAss"
      }
    },
    {
      "cell_type": "code",
      "source": [
        "with open('file.txt', 'r') as f:\n",
        "    content = f.read()"
      ],
      "metadata": {
        "id": "s3HedTS-NO6_"
      },
      "execution_count": null,
      "outputs": []
    },
    {
      "cell_type": "markdown",
      "source": [
        "**Question No. 21. Write a Python program that reads a file and print the number of occurrences of a specific word.**"
      ],
      "metadata": {
        "id": "bPVdkT8fNT_4"
      }
    },
    {
      "cell_type": "code",
      "source": [
        "word = 'Python'\n",
        "count = 0\n",
        "\n",
        "with open('file.txt', 'r') as f:\n",
        "    for line in f:\n",
        "        count += line.lower().count(word.lower())\n",
        "\n",
        "print(f\"The word '{word}' appears {count} times.\")\n"
      ],
      "metadata": {
        "id": "gIAdSJQ0Nd4p"
      },
      "execution_count": null,
      "outputs": []
    },
    {
      "cell_type": "markdown",
      "source": [
        "**Question No. 22. How can you check if a file is empty before attempting to read its contents?**"
      ],
      "metadata": {
        "id": "I__LhZwNNhuO"
      }
    },
    {
      "cell_type": "code",
      "source": [
        "import os\n",
        "\n",
        "if os.path.getsize('file.txt') > 0:\n",
        "    with open('file.txt', 'r') as f:\n",
        "        content = f.read()\n",
        "else:\n",
        "    print(\"File is empty.\")\n"
      ],
      "metadata": {
        "id": "L91KulHcNr5g"
      },
      "execution_count": null,
      "outputs": []
    },
    {
      "cell_type": "markdown",
      "source": [
        "**Question No. 23. Write a Python program that writes to a log file when an error occurs during file handling.**"
      ],
      "metadata": {
        "id": "xJBjNOGDNwFT"
      }
    },
    {
      "cell_type": "code",
      "source": [
        "import logging\n",
        "\n",
        "logging.basicConfig(filename='file_operations.log', level=logging.ERROR)\n",
        "\n",
        "try:\n",
        "    with open('file.txt', 'r') as f:\n",
        "        content = f.read()\n",
        "except Exception as e:\n",
        "    logging.error(f\"Error occurred: {e}\")\n"
      ],
      "metadata": {
        "id": "TXH1b1DwN6TU"
      },
      "execution_count": null,
      "outputs": []
    }
  ]
}